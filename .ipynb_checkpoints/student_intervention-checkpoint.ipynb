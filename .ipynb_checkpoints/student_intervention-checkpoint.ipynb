{
 "cells": [
  {
   "cell_type": "markdown",
   "metadata": {},
   "source": [
    "# Machine Learning Engineer Nanodegree\n",
    "## Supervised Learning\n",
    "## Project 2: Building a Student Intervention System"
   ]
  },
  {
   "cell_type": "markdown",
   "metadata": {},
   "source": [
    "Welcome to the second project of the Machine Learning Engineer Nanodegree! In this notebook, some template code has already been provided for you, and it will be your job to implement the additional functionality necessary to successfully complete this project. Sections that begin with **'Implementation'** in the header indicate that the following block of code will require additional functionality which you must provide. Instructions will be provided for each section and the specifics of the implementation are marked in the code block with a `'TODO'` statement. Please be sure to read the instructions carefully!\n",
    "\n",
    "In addition to implementing code, there will be questions that you must answer which relate to the project and your implementation. Each section where you will answer a question is preceded by a **'Question X'** header. Carefully read each question and provide thorough answers in the following text boxes that begin with **'Answer:'**. Your project submission will be evaluated based on your answers to each of the questions and the implementation you provide.  \n",
    "\n",
    ">**Note:** Code and Markdown cells can be executed using the **Shift + Enter** keyboard shortcut. In addition, Markdown cells can be edited by typically double-clicking the cell to enter edit mode."
   ]
  },
  {
   "cell_type": "markdown",
   "metadata": {},
   "source": [
    "### Question 1 - Classification vs. Regression\n",
    "*Your goal for this project is to identify students who might need early intervention before they fail to graduate. Which type of supervised learning problem is this, classification or regression? Why?*"
   ]
  },
  {
   "cell_type": "markdown",
   "metadata": {},
   "source": [
    "**Answer: ** A binary classification problem. Because the output label are discrete (even binary in this case), that is \"yes/no\" (Yes stands for interventions are needed, no stands for interventions are not needed. ). Regression is used when we need continuous output. "
   ]
  },
  {
   "cell_type": "markdown",
   "metadata": {},
   "source": [
    "## Exploring the Data\n",
    "Run the code cell below to load necessary Python libraries and load the student data. Note that the last column from this dataset, `'passed'`, will be our target label (whether the student graduated or didn't graduate). All other columns are features about each student."
   ]
  },
  {
   "cell_type": "code",
   "execution_count": 1,
   "metadata": {
    "collapsed": false
   },
   "outputs": [
    {
     "name": "stdout",
     "output_type": "stream",
     "text": [
      "Student data read successfully!\n"
     ]
    }
   ],
   "source": [
    "# Import libraries\n",
    "import numpy as np\n",
    "import pandas as pd\n",
    "from time import time\n",
    "from sklearn.metrics import f1_score\n",
    "import os\n",
    "\n",
    "student_data = pd.read_csv(\"student-data.csv\")\n",
    "print(\"Student data read successfully!\")"
   ]
  },
  {
   "cell_type": "markdown",
   "metadata": {},
   "source": [
    "### Implementation: Data Exploration\n",
    "Let's begin by investigating the dataset to determine how many students we have information on, and learn about the graduation rate among these students. In the code cell below, you will need to compute the following:\n",
    "- The total number of students, `n_students`.\n",
    "- The total number of features for each student, `n_features`.\n",
    "- The number of those students who passed, `n_passed`.\n",
    "- The number of those students who failed, `n_failed`.\n",
    "- The graduation rate of the class, `grad_rate`, in percent (%).\n"
   ]
  },
  {
   "cell_type": "code",
   "execution_count": 2,
   "metadata": {
    "collapsed": false
   },
   "outputs": [
    {
     "name": "stdout",
     "output_type": "stream",
     "text": [
      "Index(['school', 'sex', 'age', 'address', 'famsize', 'Pstatus', 'Medu', 'Fedu',\n",
      "       'Mjob', 'Fjob', 'reason', 'guardian', 'traveltime', 'studytime',\n",
      "       'failures', 'schoolsup', 'famsup', 'paid', 'activities', 'nursery',\n",
      "       'higher', 'internet', 'romantic', 'famrel', 'freetime', 'goout', 'Dalc',\n",
      "       'Walc', 'health', 'absences', 'passed'],\n",
      "      dtype='object')\n"
     ]
    }
   ],
   "source": [
    "print(student_data.columns)"
   ]
  },
  {
   "cell_type": "code",
   "execution_count": 3,
   "metadata": {
    "collapsed": false
   },
   "outputs": [
    {
     "name": "stdout",
     "output_type": "stream",
     "text": [
      "Total number of students: 395\n",
      "Number of features: 30\n",
      "Number of students who passed: 265\n",
      "Number of students who failed: 130\n",
      "Graduation rate of the class: 67.09%\n"
     ]
    }
   ],
   "source": [
    "# TODO: Calculate number of students\n",
    "n_students = student_data.shape[0]\n",
    "\n",
    "# TODO: Calculate number of features\n",
    "n_features = student_data.shape[1] - 1 # Since columns include label column. Label column should be substracted \n",
    "\n",
    "# TODO: Calculate passing students\n",
    "n_passed = len(student_data[student_data['passed']=='yes'])\n",
    "\n",
    "# TODO: Calculate failing students\n",
    "n_failed = len(student_data[student_data['passed'] == 'no'])\n",
    "\n",
    "# TODO: Calculate graduation rate\n",
    "grad_rate = float(n_passed)/n_students\n",
    "\n",
    "# Print the results\n",
    "print(\"Total number of students: {}\".format(n_students))\n",
    "print(\"Number of features: {}\".format(n_features))\n",
    "print(\"Number of students who passed: {}\".format(n_passed))\n",
    "print(\"Number of students who failed: {}\".format(n_failed))\n",
    "print(\"Graduation rate of the class: {:.2f}%\".format(100. * grad_rate))"
   ]
  },
  {
   "cell_type": "markdown",
   "metadata": {},
   "source": [
    "## Preparing the Data\n",
    "In this section, we will prepare the data for modeling, training and testing.\n",
    "\n",
    "### Identify feature and target columns\n",
    "It is often the case that the data you obtain contains non-numeric features. This can be a problem, as most machine learning algorithms expect numeric data to perform computations with.\n",
    "\n",
    "Run the code cell below to separate the student data into feature and target columns to see if any features are non-numeric."
   ]
  },
  {
   "cell_type": "code",
   "execution_count": 4,
   "metadata": {
    "collapsed": false
   },
   "outputs": [
    {
     "name": "stdout",
     "output_type": "stream",
     "text": [
      "Feature columns:\n",
      "['school', 'sex', 'age', 'address', 'famsize', 'Pstatus', 'Medu', 'Fedu', 'Mjob', 'Fjob', 'reason', 'guardian', 'traveltime', 'studytime', 'failures', 'schoolsup', 'famsup', 'paid', 'activities', 'nursery', 'higher', 'internet', 'romantic', 'famrel', 'freetime', 'goout', 'Dalc', 'Walc', 'health', 'absences']\n",
      "\n",
      "Target column: passed\n",
      "\n",
      "Feature values:\n",
      "  school sex  age address famsize Pstatus  Medu  Fedu     Mjob      Fjob  \\\n",
      "0     GP   F   18       U     GT3       A     4     4  at_home   teacher   \n",
      "1     GP   F   17       U     GT3       T     1     1  at_home     other   \n",
      "2     GP   F   15       U     LE3       T     1     1  at_home     other   \n",
      "3     GP   F   15       U     GT3       T     4     2   health  services   \n",
      "4     GP   F   16       U     GT3       T     3     3    other     other   \n",
      "\n",
      "    ...    higher internet  romantic  famrel  freetime goout Dalc Walc health  \\\n",
      "0   ...       yes       no        no       4         3     4    1    1      3   \n",
      "1   ...       yes      yes        no       5         3     3    1    1      3   \n",
      "2   ...       yes      yes        no       4         3     2    2    3      3   \n",
      "3   ...       yes      yes       yes       3         2     2    1    1      5   \n",
      "4   ...       yes       no        no       4         3     2    1    2      5   \n",
      "\n",
      "  absences  \n",
      "0        6  \n",
      "1        4  \n",
      "2       10  \n",
      "3        2  \n",
      "4        4  \n",
      "\n",
      "[5 rows x 30 columns]\n"
     ]
    }
   ],
   "source": [
    "# Extract feature columns\n",
    "feature_cols = list(student_data.columns[:-1])\n",
    "\n",
    "# Extract target column 'passed'\n",
    "target_col = student_data.columns[-1] \n",
    "\n",
    "# Show the list of columns\n",
    "\n",
    "print(\"Feature columns:\\n{}\".format(feature_cols))\n",
    "print(\"\\nTarget column: {}\".format(target_col))\n",
    "\n",
    "# Separate the data into feature data and target data (X_all and y_all, respectively)\n",
    "X_all = student_data[feature_cols]\n",
    "y_all = student_data[target_col]\n",
    "\n",
    "# Show the feature information by printing the first five rows\n",
    "print(\"\\nFeature values:\")\n",
    "print(X_all.head())"
   ]
  },
  {
   "cell_type": "markdown",
   "metadata": {},
   "source": [
    "### Preprocess Feature Columns\n",
    "\n",
    "As you can see, there are several non-numeric columns that need to be converted! Many of them are simply `yes`/`no`, e.g. `internet`. These can be reasonably converted into `1`/`0` (binary) values.\n",
    "\n",
    "Other columns, like `Mjob` and `Fjob`, have more than two values, and are known as _categorical variables_. The recommended way to handle such a column is to create as many columns as possible values (e.g. `Fjob_teacher`, `Fjob_other`, `Fjob_services`, etc.), and assign a `1` to one of them and `0` to all others.\n",
    "\n",
    "These generated columns are sometimes called _dummy variables_, and we will use the [`pandas.get_dummies()`](http://pandas.pydata.org/pandas-docs/stable/generated/pandas.get_dummies.html?highlight=get_dummies#pandas.get_dummies) function to perform this transformation. Run the code cell below to perform the preprocessing routine discussed in this section."
   ]
  },
  {
   "cell_type": "code",
   "execution_count": 5,
   "metadata": {
    "collapsed": false
   },
   "outputs": [
    {
     "name": "stdout",
     "output_type": "stream",
     "text": [
      "Processed feature columns (48 total features):\n",
      "['school_GP', 'school_MS', 'sex_F', 'sex_M', 'age', 'address_R', 'address_U', 'famsize_GT3', 'famsize_LE3', 'Pstatus_A', 'Pstatus_T', 'Medu', 'Fedu', 'Mjob_at_home', 'Mjob_health', 'Mjob_other', 'Mjob_services', 'Mjob_teacher', 'Fjob_at_home', 'Fjob_health', 'Fjob_other', 'Fjob_services', 'Fjob_teacher', 'reason_course', 'reason_home', 'reason_other', 'reason_reputation', 'guardian_father', 'guardian_mother', 'guardian_other', 'traveltime', 'studytime', 'failures', 'schoolsup', 'famsup', 'paid', 'activities', 'nursery', 'higher', 'internet', 'romantic', 'famrel', 'freetime', 'goout', 'Dalc', 'Walc', 'health', 'absences']\n"
     ]
    }
   ],
   "source": [
    "from sklearn.preprocessing import minmax_scale\n",
    "def preprocess_features(X):\n",
    "    ''' Preprocesses the student data and converts non-numeric binary variables into\n",
    "        binary (0/1) variables. Converts categorical variables into dummy variables. '''\n",
    "    \n",
    "    # Initialize new output DataFrame\n",
    "    output = pd.DataFrame(index = X.index)\n",
    "\n",
    "    # Investigate each feature column for the data\n",
    "    for col, col_data in X.iteritems():\n",
    "            \n",
    "        # If data type is non-numeric, replace all yes/no values with 1/0\n",
    "        if col_data.dtype == object:\n",
    "            col_data = col_data.replace(['yes', 'no'], [1, 0])\n",
    "\n",
    "        # If data type is categorical, convert to dummy variables\n",
    "        if col_data.dtype == object:\n",
    "            # Example: 'school' => 'school_GP' and 'school_MS'\n",
    "            col_data = pd.get_dummies(col_data, prefix=col)\n",
    "        \n",
    "        # Collect the revised columns\n",
    "        output = output.join(col_data)\n",
    "    \n",
    "    return output\n",
    "\n",
    "X_all = preprocess_features(X_all)\n",
    "\n",
    "print(\"Processed feature columns ({} total features):\\n{}\".format(len(X_all.columns), list(X_all.columns)))"
   ]
  },
  {
   "cell_type": "code",
   "execution_count": 6,
   "metadata": {
    "collapsed": true
   },
   "outputs": [],
   "source": [
    "# Rescale X_all since some classifiers such as SVM needs feature rescaling \n",
    "X_all = minmax_scale(X_all)\n",
    "y_all = y_all.replace(['no', 'yes'], [0, 1])"
   ]
  },
  {
   "cell_type": "markdown",
   "metadata": {},
   "source": [
    "### Implementation: Training and Testing Data Split\n",
    "So far, we have converted all _categorical_ features into numeric values. For the next step, we split the data (both features and corresponding labels) into training and test sets. In the following code cell below, you will need to implement the following:\n",
    "- Randomly shuffle and split the data (`X_all`, `y_all`) into training and testing subsets.\n",
    "  - Use 300 training points (approximately 75%) and 95 testing points (approximately 25%).\n",
    "  - Set a `random_state` for the function(s) you use, if provided.\n",
    "  - Store the results in `X_train`, `X_test`, `y_train`, and `y_test`."
   ]
  },
  {
   "cell_type": "code",
   "execution_count": 7,
   "metadata": {
    "collapsed": false
   },
   "outputs": [],
   "source": [
    "from sklearn.model_selection import train_test_split\n",
    "from sklearn.utils import shuffle\n",
    "\n",
    "X_all, y_all = shuffle(X_all, y_all, random_state=1)\n",
    "X_train, X_test, y_train, y_test = train_test_split(X_all, y_all, test_size=95, random_state=1, stratify=y_all)"
   ]
  },
  {
   "cell_type": "code",
   "execution_count": 8,
   "metadata": {
    "collapsed": false
   },
   "outputs": [
    {
     "name": "stdout",
     "output_type": "stream",
     "text": [
      "(300, 48) (95, 48) (300,) (95,)\n"
     ]
    }
   ],
   "source": [
    "print(X_train.shape, X_test.shape, y_train.shape, y_test.shape)"
   ]
  },
  {
   "cell_type": "code",
   "execution_count": 9,
   "metadata": {
    "collapsed": false
   },
   "outputs": [],
   "source": [
    "# Save the model training and testing data to a h5 file, since test dataset has to be the same for each training \n",
    "# Or comparison of pipeline may not be accurate\n",
    "import h5py \n",
    "h5_f = h5py.File('./data.h5')\n",
    "dset_X_train = h5_f.create_dataset('X_train', data=X_train)\n",
    "dset_X_test = h5_f.create_dataset('X_test', data=X_test)\n",
    "dset_y_train = h5_f.create_dataset('y_train', data=y_train)\n",
    "dset_y_test = h5_f.create_dataset('y_test', data=y_test)\n",
    "h5_f.close()"
   ]
  },
  {
   "cell_type": "markdown",
   "metadata": {},
   "source": [
    "#### Reload preprocessed data to keep training, test data consistent"
   ]
  },
  {
   "cell_type": "code",
   "execution_count": 1,
   "metadata": {
    "collapsed": true
   },
   "outputs": [],
   "source": [
    "import h5py \n",
    "h5_f = h5py.File('./data.h5')\n",
    "X_train = h5_f['X_train'][:]\n",
    "y_train = h5_f['y_train'][:]\n",
    "X_test = h5_f['X_test'][:]\n",
    "y_test = h5_f['y_test'][:]"
   ]
  },
  {
   "cell_type": "code",
   "execution_count": 2,
   "metadata": {
    "collapsed": false
   },
   "outputs": [
    {
     "name": "stdout",
     "output_type": "stream",
     "text": [
      "(300, 48) (95, 48) (300,) (95,)\n"
     ]
    }
   ],
   "source": [
    "print(X_train.shape, X_test.shape, y_train.shape, y_test.shape)"
   ]
  },
  {
   "cell_type": "markdown",
   "metadata": {},
   "source": [
    "## Training and Evaluating Models\n",
    "In this section, you will choose 3 supervised learning models that are appropriate for this problem and available in `scikit-learn`. You will first discuss the reasoning behind choosing these three models by considering what you know about the **data and each model's strengths and weaknesses**. You will then fit the model to varying sizes of training data (100 data points, 200 data points, and 300 data points) and measure the F<sub>1</sub> score. You will need to produce three tables (one for each model) that shows the training set size, training time, prediction time, F<sub>1</sub> score on the training set, and F<sub>1</sub> score on the testing set.\n",
    "\n",
    "**The following supervised learning models are currently available in** [`scikit-learn`](http://scikit-learn.org/stable/supervised_learning.html) **that you may choose from:**\n",
    "- Gaussian Naive Bayes (GaussianNB)\n",
    "- Decision Trees\n",
    "- Ensemble Methods (Bagging, AdaBoost, Random Forest, Gradient Boosting)\n",
    "- K-Nearest Neighbors (KNeighbors)\n",
    "- Stochastic Gradient Descent (SGDC)\n",
    "- Support Vector Machines (SVM)\n",
    "- Logistic Regression"
   ]
  },
  {
   "cell_type": "markdown",
   "metadata": {},
   "source": [
    "### Question 2 - Model Application\n",
    "*List three supervised learning models that are appropriate for this problem. For each model chosen*\n",
    "- Describe one real-world application in industry where the model can be applied. *(You may need to do a small bit of research for this — give references!)* \n",
    "- What are the strengths of the model; when does it perform well? \n",
    "- What are the weaknesses of the model; when does it perform poorly?\n",
    "- What makes this model a good candidate for the problem, given what you know about the data?"
   ]
  },
  {
   "cell_type": "markdown",
   "metadata": {},
   "source": [
    "**Answer: **\n",
    "- Since this problem is a numerical(Non-text) classification problem and the dataset is relatively small, I think Logistic Regression, SVM and ensemble methods(such as Gradient Boosting) are appropriate for it. And their model complexity is increased from logistic regression to SVM then ensemble methods in general (Logistic Regression is not very different from a SVM with a linear kernel. Here [Andrew Ng derives SVMs from Logistic Regression](https://d396qusza40orc.cloudfront.net/ml/docs/slides/Lecture12.pdf)).  So I think it is worth to try them for this problem.  \n",
    "\n",
    "\n",
    "<table>\n",
    "  <tbody>\n",
    "    <tr>\n",
    "      <th>Tables</th>\n",
    "      <th align=\"left\">Ensemble Methods(Gradient boosting)</th>\n",
    "      <th align=\"left\">SVM</th>\n",
    "      <th align = \"left\">Logistic regression</th>\n",
    "    </tr>\n",
    "    <tr>\n",
    "      <td>Real-world application</td>\n",
    "      <td align=\"left\">\n",
    "          <ul>\n",
    "              <li>Lots of Kaggle competition winning algorithm.</li>\n",
    "              <li>Tencent data platform use distributed XGBoost for clicking through prediction in wechat shopping and lookalikes. The problems involve hundreds millions of users and thousands of features.\n",
    "              <a href=\"https://github.com/dmlc/xgboost/tree/master/demo#usecases\">link</a>\n",
    "              </li>\n",
    "          </ul>\n",
    "      </td>\n",
    "      <td align=\"left\">A company named Directing in Greece uses SVM for customers annual churn prediction [link](http://www.kdnuggets.com/2014/09/automotive-customer-churn-prediction-svm-som.html) </td>\n",
    "      \n",
    "      <td align = \"left\">Logistic regression analysis are used in banks to identify demographic and behavioral characteristics associated with likelihood to default on a bank loan [link](http://smartdrill.com/logistic-regression.html)</td>\n",
    "    </tr>\n",
    "   <tr>\n",
    "      <td>Strengths of the model</td>\n",
    "      <td align=\"left\">\n",
    "          <ul>\n",
    "          <li>Easy to interpret (Tree based model) and invariant to input scale[Link](https://www.quora.com/Why-is-xgboost-given-so-much-less-attention-than-deep-learning-despite-its-ubiquity-in-winning-Kaggle-solutions/answer/Tianqi-Chen-1?srid=32HW) </li>\n",
    "          <li>High Accuracy (Kaggle 1st place winner Owen Zhang: When in doubt, use xgboost (for tabular data only I think) )</li>\n",
    "          <li>No difficult parameters/architectures to set</li>\n",
    "          <li>Computationally efficient, comparing to neural nets</li>\n",
    "          <li>All boosting, including gradient boost machine, are additive models, which means later model relys on its previous model. Therefore, it is hard to do parallel training, while it is possible recently [link](http://dmlc.ml/2016/12/14/GPU-accelerated-xgboost.html)</li>\n",
    "          <li>Regularization is important to xgboost as Tianqi Chen added it in its objective function. </li>\n",
    "          <li>Naturally handling heterogeneous features</li>\n",
    "          <li>Robustness to outliers in output space</li>\n",
    "          <li>Automatically detects feature interactions [link](http://www.slideshare.net/DataRobot/gradient-boosted-regression-trees-in-scikitlearn)</li>\n",
    "          <li>Support different loss functions </li>\n",
    "          </ul> \n",
    "      </td>\n",
    "      <td align=\"left\">\n",
    "          <ul>\n",
    "              <li>Versatile kernels can be used </li>\n",
    "              <li>Good at dealing with training data in high dimensional space</li>\n",
    "          </ul>\n",
    "      </td>\n",
    "      <td align = \"left\"><ul>\n",
    "      <li>Fast to train</li>\n",
    "      <li>Simple, easy to interpret, result can be used as baseline</li>\n",
    "      <li>Since its output is probability, it can be used for ranking</li>\n",
    "      <li>Robust to noise</li>\n",
    "      </ul></td>\n",
    "    </tr>\n",
    "    <tr>\n",
    "      <td>Weakness of the model</td>\n",
    "      <td align=\"left\">\n",
    "          <ul>\n",
    "              <li>Feature engineer intense (lots of winning kaggler mentioned how important feature enginnering is comparing to neural nets)</li>\n",
    "              <li>require careful tuning</li>\n",
    "              <li>Slow to train (But fast to predict)</li>\n",
    "              <li>Not efficient to skewed distribution, since underline it is a tree model ensembler, weights to unbalanced samples can be set to solve the problem. </li>\n",
    "              <li>Needs more data comparing to SVM and logistic regression</li>\n",
    "              <li>Take more time and resources comparing to SVM and logistic regression</li>\n",
    "          </ul>\n",
    "      </td>\n",
    "      <td align=\"left\">\n",
    "      <ul>\n",
    "          <li>Inefficient to train if lots of training examples [link](https://www.quora.com/What-are-the-advantages-of-different-classification-algorithms/answer/Xavier-Amatriain?srid=32HW)</li>\n",
    "          <li>Hard to attribute meanings in high dimension comparing to decision trees</li>\n",
    "          <li>Slow when training large dataset</li>\n",
    "      </ul>\n",
    "      </td>\n",
    "      <td align = \"left\">\n",
    "          <ul>\n",
    "              <li>Relatively low accuracy</li>\n",
    "              <li>Linear Combination of features</li>\n",
    "              <li>Hardly to handle categorical features</li>\n",
    "          </ul>\n",
    "      </td>\n",
    "    </tr>\n",
    "  </tbody>\n",
    "</table>"
   ]
  },
  {
   "cell_type": "markdown",
   "metadata": {},
   "source": [
    "### Setup\n",
    "Run the code cell below to initialize three helper functions which you can use for training and testing the three supervised learning models you've chosen above. The functions are as follows:\n",
    "- `train_classifier` - takes as input a classifier and training data and fits the classifier to the data.\n",
    "- `predict_labels` - takes as input a fit classifier, features, and a target labeling and makes predictions using the F<sub>1</sub> score.\n",
    "- `train_predict` - takes as input a classifier, and the training and testing data, and performs `train_clasifier` and `predict_labels`.\n",
    " - This function will report the F<sub>1</sub> score for both the training and testing data separately."
   ]
  },
  {
   "cell_type": "code",
   "execution_count": 3,
   "metadata": {
    "collapsed": false
   },
   "outputs": [],
   "source": [
    "from sklearn.metrics import f1_score, recall_score, precision_score, precision_recall_fscore_support, accuracy_score\n",
    "from sklearn.metrics import confusion_matrix\n",
    "\n",
    "def train_classifier(clf, X_train, y_train):\n",
    "    ''' Fits a classifier to the training data. '''\n",
    "    \n",
    "    # Start the clock, train the classifier, then stop the clock\n",
    "    start = time()\n",
    "    \n",
    "    sample_weight = y_train.copy().astype(float)\n",
    "    graduate_ratio = np.sum(sample_weight)/sample_weight.shape[0]\n",
    "    dropout_ratio = 1 - graduate_ratio\n",
    "    balance_ratio = graduate_ratio / dropout_ratio\n",
    "    # print(balance_ratio)\n",
    "    sample_weight[y_train==0] = 1. * balance_ratio\n",
    "    \n",
    "    clf.fit(X_train, y_train, sample_weight=sample_weight)\n",
    "    end = time()\n",
    "    \n",
    "    # Print the results\n",
    "    print(\"Trained model in {:.4f} seconds\".format(end - start))\n",
    "\n",
    "    \n",
    "def predict_labels(clf, features, target):\n",
    "    ''' Makes predictions using a fit classifier based on F1 score. '''\n",
    "    \n",
    "    # Start the clock, make predictions, then stop the clock\n",
    "    start = time()\n",
    "    y_pred = clf.predict(features)\n",
    "    end = time()\n",
    "    \n",
    "    # Print and return results\n",
    "    print(\"Made predictions in {:.4f} seconds.\".format(end - start))\n",
    "    print(\"For students who actually need intervention, how many of them are identified \",\n",
    "          \"(Recall): \", recall_score(target, y_pred, pos_label=0)) # pos_label set to 0, for major object\n",
    "    # for this project is identify possible dropout, it makes more sense comparing to 1\n",
    "    print(\"For students who are predicted for intervention, how many actual need one (Precision): \", \n",
    "          (precision_score(target, y_pred, pos_label=0)))\n",
    "    print(\"Accuracy score is: \", (accuracy_score(target, y_pred)))\n",
    "    print(\"Confusion matrix is: \", confusion_matrix(target, y_pred))\n",
    "    return f1_score(target, y_pred, pos_label=0)\n",
    "\n",
    "\n",
    "def train_predict(clf, X_train, y_train, X_test, y_test):\n",
    "    ''' Train and predict using a classifer based on F1 score. '''\n",
    "    \n",
    "    # Indicate the classifier and the training set size\n",
    "    print(\"Training a {} using a training set size of {}. . .\".format(clf.__class__.__name__, len(X_train)))\n",
    "    \n",
    "    # Train the classifier\n",
    "    train_classifier(clf, X_train, y_train)\n",
    "    \n",
    "    # Print the results of prediction for both training and testing\n",
    "    print(\"F1 score for training set: {:.4f}.\".format(predict_labels(clf, X_train, y_train)))\n",
    "    print(\"F1 score for test set: {:.4f}.\".format(predict_labels(clf, X_test, y_test)))\n",
    "    print()"
   ]
  },
  {
   "cell_type": "markdown",
   "metadata": {},
   "source": [
    "### Implementation: Model Performance Metrics\n",
    "With the predefined functions above, you will now import the three supervised learning models of your choice and run the `train_predict` function for each one. Remember that you will need to train and predict on each classifier for three different training set sizes: 100, 200, and 300. Hence, you should expect to have 9 different outputs below — 3 for each model using the varying training set sizes. In the following code cell, you will need to implement the following:\n",
    "- Import the three supervised learning models you've discussed in the previous section.\n",
    "- Initialize the three models and store them in `clf_A`, `clf_B`, and `clf_C`.\n",
    " - Use a `random_state` for each model you use, if provided.\n",
    " - **Note:** Use the default settings for each model — you will tune one specific model in a later section.\n",
    "- Create the different training set sizes to be used to train each model.\n",
    " - *Do not reshuffle and resplit the data! The new training points should be drawn from `X_train` and `y_train`.*\n",
    "- Fit each model with each training set size and make predictions on the test set (9 in total).  \n",
    "**Note:** Three tables are provided after the following code cell which can be used to store your results."
   ]
  },
  {
   "cell_type": "code",
   "execution_count": 4,
   "metadata": {
    "collapsed": false
   },
   "outputs": [
    {
     "name": "stdout",
     "output_type": "stream",
     "text": [
      "Training a GradientBoostingClassifier using a training set size of 100. . .\n",
      "Trained model in 0.0578 seconds\n",
      "Made predictions in 0.0006 seconds.\n",
      "For students who actually need intervention, how many of them are identified  (Recall):  1.0\n",
      "For students who are predicted for intervention, how many actual need one (Precision):  1.0\n",
      "Accuracy score is:  1.0\n",
      "Confusion matrix is:  [[33  0]\n",
      " [ 0 67]]\n",
      "F1 score for training set: 1.0000.\n",
      "Made predictions in 0.0005 seconds.\n",
      "For students who actually need intervention, how many of them are identified  (Recall):  0.387096774194\n",
      "For students who are predicted for intervention, how many actual need one (Precision):  0.48\n",
      "Accuracy score is:  0.663157894737\n",
      "Confusion matrix is:  [[12 19]\n",
      " [13 51]]\n",
      "F1 score for test set: 0.4286.\n",
      "\n",
      "Training a SVC using a training set size of 100. . .\n",
      "Trained model in 0.0016 seconds\n",
      "Made predictions in 0.0010 seconds.\n",
      "For students who actually need intervention, how many of them are identified  (Recall):  0.878787878788\n",
      "For students who are predicted for intervention, how many actual need one (Precision):  0.58\n",
      "Accuracy score is:  0.75\n",
      "Confusion matrix is:  [[29  4]\n",
      " [21 46]]\n",
      "F1 score for training set: 0.6988.\n",
      "Made predictions in 0.0010 seconds.\n",
      "For students who actually need intervention, how many of them are identified  (Recall):  0.58064516129\n",
      "For students who are predicted for intervention, how many actual need one (Precision):  0.375\n",
      "Accuracy score is:  0.547368421053\n",
      "Confusion matrix is:  [[18 13]\n",
      " [30 34]]\n",
      "F1 score for test set: 0.4557.\n",
      "\n",
      "Training a LogisticRegression using a training set size of 100. . .\n",
      "Trained model in 0.0020 seconds\n",
      "Made predictions in 0.0012 seconds.\n",
      "For students who actually need intervention, how many of them are identified  (Recall):  0.939393939394\n",
      "For students who are predicted for intervention, how many actual need one (Precision):  0.775\n",
      "Accuracy score is:  0.89\n",
      "Confusion matrix is:  [[31  2]\n",
      " [ 9 58]]\n",
      "F1 score for training set: 0.8493.\n",
      "Made predictions in 0.0001 seconds.\n",
      "For students who actually need intervention, how many of them are identified  (Recall):  0.387096774194\n",
      "For students who are predicted for intervention, how many actual need one (Precision):  0.363636363636\n",
      "Accuracy score is:  0.578947368421\n",
      "Confusion matrix is:  [[12 19]\n",
      " [21 43]]\n",
      "F1 score for test set: 0.3750.\n",
      "\n",
      "Training a GradientBoostingClassifier using a training set size of 200. . .\n",
      "Trained model in 0.0947 seconds\n",
      "Made predictions in 0.0007 seconds.\n",
      "For students who actually need intervention, how many of them are identified  (Recall):  1.0\n",
      "For students who are predicted for intervention, how many actual need one (Precision):  1.0\n",
      "Accuracy score is:  1.0\n",
      "Confusion matrix is:  [[ 64   0]\n",
      " [  0 136]]\n",
      "F1 score for training set: 1.0000.\n",
      "Made predictions in 0.0005 seconds.\n",
      "For students who actually need intervention, how many of them are identified  (Recall):  0.387096774194\n",
      "For students who are predicted for intervention, how many actual need one (Precision):  0.521739130435\n",
      "Accuracy score is:  0.684210526316\n",
      "Confusion matrix is:  [[12 19]\n",
      " [11 53]]\n",
      "F1 score for test set: 0.4444.\n",
      "\n",
      "Training a SVC using a training set size of 200. . .\n",
      "Trained model in 0.0047 seconds\n",
      "Made predictions in 0.0047 seconds.\n",
      "For students who actually need intervention, how many of them are identified  (Recall):  0.75\n",
      "For students who are predicted for intervention, how many actual need one (Precision):  0.592592592593\n",
      "Accuracy score is:  0.755\n",
      "Confusion matrix is:  [[ 48  16]\n",
      " [ 33 103]]\n",
      "F1 score for training set: 0.6621.\n",
      "Made predictions in 0.0025 seconds.\n",
      "For students who actually need intervention, how many of them are identified  (Recall):  0.451612903226\n",
      "For students who are predicted for intervention, how many actual need one (Precision):  0.451612903226\n",
      "Accuracy score is:  0.642105263158\n",
      "Confusion matrix is:  [[14 17]\n",
      " [17 47]]\n",
      "F1 score for test set: 0.4516.\n",
      "\n",
      "Training a LogisticRegression using a training set size of 200. . .\n",
      "Trained model in 0.0022 seconds\n",
      "Made predictions in 0.0002 seconds.\n",
      "For students who actually need intervention, how many of them are identified  (Recall):  0.75\n",
      "For students who are predicted for intervention, how many actual need one (Precision):  0.623376623377\n",
      "Accuracy score is:  0.775\n",
      "Confusion matrix is:  [[ 48  16]\n",
      " [ 29 107]]\n",
      "F1 score for training set: 0.6809.\n",
      "Made predictions in 0.0002 seconds.\n",
      "For students who actually need intervention, how many of them are identified  (Recall):  0.41935483871\n",
      "For students who are predicted for intervention, how many actual need one (Precision):  0.40625\n",
      "Accuracy score is:  0.610526315789\n",
      "Confusion matrix is:  [[13 18]\n",
      " [19 45]]\n",
      "F1 score for test set: 0.4127.\n",
      "\n",
      "Training a GradientBoostingClassifier using a training set size of 300. . .\n",
      "Trained model in 0.1026 seconds\n",
      "Made predictions in 0.0011 seconds.\n",
      "For students who actually need intervention, how many of them are identified  (Recall):  0.989898989899\n",
      "For students who are predicted for intervention, how many actual need one (Precision):  0.970297029703\n",
      "Accuracy score is:  0.986666666667\n",
      "Confusion matrix is:  [[ 98   1]\n",
      " [  3 198]]\n",
      "F1 score for training set: 0.9800.\n",
      "Made predictions in 0.0004 seconds.\n",
      "For students who actually need intervention, how many of them are identified  (Recall):  0.387096774194\n",
      "For students who are predicted for intervention, how many actual need one (Precision):  0.375\n",
      "Accuracy score is:  0.589473684211\n",
      "Confusion matrix is:  [[12 19]\n",
      " [20 44]]\n",
      "F1 score for test set: 0.3810.\n",
      "\n",
      "Training a SVC using a training set size of 300. . .\n",
      "Trained model in 0.0092 seconds\n",
      "Made predictions in 0.0072 seconds.\n",
      "For students who actually need intervention, how many of them are identified  (Recall):  0.727272727273\n",
      "For students who are predicted for intervention, how many actual need one (Precision):  0.5625\n",
      "Accuracy score is:  0.723333333333\n",
      "Confusion matrix is:  [[ 72  27]\n",
      " [ 56 145]]\n",
      "F1 score for training set: 0.6344.\n",
      "Made predictions in 0.0024 seconds.\n",
      "For students who actually need intervention, how many of them are identified  (Recall):  0.41935483871\n",
      "For students who are predicted for intervention, how many actual need one (Precision):  0.317073170732\n",
      "Accuracy score is:  0.515789473684\n",
      "Confusion matrix is:  [[13 18]\n",
      " [28 36]]\n",
      "F1 score for test set: 0.3611.\n",
      "\n",
      "Training a LogisticRegression using a training set size of 300. . .\n",
      "Trained model in 0.0018 seconds\n",
      "Made predictions in 0.0002 seconds.\n",
      "For students who actually need intervention, how many of them are identified  (Recall):  0.767676767677\n",
      "For students who are predicted for intervention, how many actual need one (Precision):  0.603174603175\n",
      "Accuracy score is:  0.756666666667\n",
      "Confusion matrix is:  [[ 76  23]\n",
      " [ 50 151]]\n",
      "F1 score for training set: 0.6756.\n",
      "Made predictions in 0.0002 seconds.\n",
      "For students who actually need intervention, how many of them are identified  (Recall):  0.548387096774\n",
      "For students who are predicted for intervention, how many actual need one (Precision):  0.395348837209\n",
      "Accuracy score is:  0.578947368421\n",
      "Confusion matrix is:  [[17 14]\n",
      " [26 38]]\n",
      "F1 score for test set: 0.4595.\n",
      "\n"
     ]
    }
   ],
   "source": [
    "# TODO: Import the three supervised learning models from sklearn\n",
    "from sklearn.ensemble import GradientBoostingClassifier\n",
    "from sklearn.svm import SVC\n",
    "from sklearn.linear_model import LogisticRegression\n",
    "import numpy as np\n",
    "from time import time\n",
    "# from skearln import model_C\n",
    "\n",
    "# TODO: Initialize the three models\n",
    "# class_weight = {0:2, 1:1}\n",
    "clf_A = GradientBoostingClassifier(random_state=6)\n",
    "clf_B = SVC(random_state=8)\n",
    "clf_C = LogisticRegression(random_state=9)\n",
    "clf_list = [clf_A, clf_B, clf_C]\n",
    "\n",
    "# TODO: Set up the training set sizes\n",
    "X_train_100_index = np.random.choice(300, size=100, replace=False)\n",
    "\n",
    "X_train_100 = X_train[X_train_100_index]\n",
    "y_train_100 = y_train[X_train_100_index]\n",
    "\n",
    "X_train_200_index = np.random.choice(300, size=200, replace=False)\n",
    "X_train_200 = X_train[X_train_200_index]\n",
    "y_train_200 = y_train[X_train_200_index]\n",
    "\n",
    "X_train_300 = X_train\n",
    "y_train_300 = y_train\n",
    "\n",
    "X_train_list = [X_train_100, X_train_200, X_train_300]\n",
    "y_train_list = [y_train_100, y_train_200, y_train_300]\n",
    "\n",
    "# TODO: Execute the 'train_predict' function for each classifier and each training set size\n",
    "# train_predict(clf, X_train, y_train, X_test, y_test)\n",
    "for X, y in zip(X_train_list, y_train_list):\n",
    "    for clf in clf_list:\n",
    "        train_predict(clf, X, y, X_test, y_test)"
   ]
  },
  {
   "cell_type": "markdown",
   "metadata": {},
   "source": [
    "### Tabular Results\n",
    "Edit the cell below to see how a table can be designed in [Markdown](https://github.com/adam-p/markdown-here/wiki/Markdown-Cheatsheet#tables). You can record your results from above in the tables provided."
   ]
  },
  {
   "cell_type": "markdown",
   "metadata": {},
   "source": [
    "** Classifer 1 - Gradient Boost Machine**  \n",
    "\n",
    "**Pos_label for f1 score is set to 0 (dropout), for the main object is to detect possible dropout**\n",
    "\n",
    "| Training Set Size | Training Time(sec) | Prediction Time (test sec) | F1 Score (train) | F1 Score (test) | Dropout Recall Rate(test)|\n",
    "| :---------------: | :---------------------: | :--------------------: | :--------------: | :-------------: |:-------------:|\n",
    "| 100               |           0.0578              |       0.0005                 |   1.0000               |      0.4286 (Every time, it is different and its difference is huge (over 10% sometimes, unstable))          | 0.3871| \n",
    "| 200               |       0.0947          |          0.0005             |       1.0           |       0.4444          |0.3871 | \n",
    "| 300               |       0.1026                 |      0.0004                  |       0.9867           |    0.3810 (Not stable, but better comparing to 100 training samples)      |0.3871|\n",
    "\n",
    "** Classifer 2 - SVM**  \n",
    "\n",
    "| Training Set Size | Training Time | Prediction Time (test) | F1 Score (train) | F1 Score (test) |Dropout Recall Rate(test)|\n",
    "| :---------------: | :---------------------: | :--------------------: | :--------------: | :-------------: | :-------------: |\n",
    "| 100               |      0.0016                   |         0.0010               |  0.6988                |         0.4557        |0.5806|\n",
    "| 200               |       0.0047           |         0.0025               |        0.6621          |     0.4516            |0.4516|\n",
    "| 300               |     0.0092                    |        0.0024                |             0.6344     |     0.3611     |0.4193|\n",
    "\n",
    "** Classifer 3 - Logistic regression**  \n",
    "\n",
    "| Training Set Size | Training Time | Prediction Time (test) | F1 Score (train) | F1 Score (test) |Dropout Recall Rate(test)|\n",
    "| :---------------: | :---------------------: | :--------------------: | :--------------: | :-------------: | :-------------: |\n",
    "| 100               |       0.0020                 |       0.0001                 |          0.8493        |     0.5789            |0.3871|\n",
    "| 200               |       0.0022                  |        0.0002                |          0.6809        |    0.4127             |0.4193|\n",
    "| 300               |         0.0018                  |        0.0002                 |         0.6756         |      0.4595          |0.5484 | "
   ]
  },
  {
   "cell_type": "markdown",
   "metadata": {},
   "source": [
    "## Choosing the Best Model\n",
    "In this final section, you will choose from the three supervised learning models the *best* model to use on the student data. You will then perform a grid search optimization for the model over the entire training set (`X_train` and `y_train`) by tuning at least one parameter to improve upon the untuned model's F<sub>1</sub> score. "
   ]
  },
  {
   "cell_type": "markdown",
   "metadata": {},
   "source": [
    "### Question 3 - Choosing the Best Model\n",
    "*Based on the experiments you performed earlier, in one to two paragraphs, explain to the board of supervisors what single model you chose as the best model. Which model is generally the most appropriate based on the available data, limited resources, cost, and performance?*"
   ]
  },
  {
   "cell_type": "markdown",
   "metadata": {},
   "source": [
    "**Answer: **\n",
    "\n",
    "- First, how can we define the best model in the student intervention project? Our goal is to identify students who need intervention before they drop out of school. A model with high accuracy is crucial for this project. And in the project, there can only be 2 prediction errors: predict someone as dropout but actually not and fail to predict an actual dropout. A good model will lower both the 2 errors to an acceptable level. But after the acceptable level, lower one of them will increase another. For our objective, a better model should identify majority of dropouts successfully even though it also wrongly predict someone needs intervention but actually does not. Fail to predict an acutal dropout brings more loss to our objective, comparing to predict an actual graduate as someone needs intervention. Therefore, I added Dropout recall rate(test) column in previous table for comparison. \n",
    "\n",
    "- SVM is the best fit for this problem based on experiments earlier, for its performance on test set is better than gradient boost machine and comparable with logistic regression. But logistic regression is basically a linear classifier, which means it cannot detect non-linear features, such as combining the information that a student have internet access at home and his lots of school absences may give better indication about his possible dropout. But SVM can use kernel trick to deal with non-linearity. By fine tuning and appropriate feature engineering, it has more potention to achieve high accuracy comparing to logistic regression. What's more, according to Occam's Razor principle: Use the least complicated algorithm that can address the needs and only go for something more complicated if strictly necessary. Therefore, I did not choose Gradient boost machine neither. And the training and prediction time of SVM is also fast since the dataset is relatively small. Therefore, I think SVM is the best model for this problem. "
   ]
  },
  {
   "cell_type": "markdown",
   "metadata": {},
   "source": [
    "### Question 4 - Model in Layman's Terms\n",
    "*In one to two paragraphs, explain to the board of directors in layman's terms how the final model chosen is supposed to work. Be sure that you are describing the major qualities of the model, such as how the model is trained and how the model makes a prediction. Avoid using advanced mathematical or technical jargon, such as describing equations or discussing the algorithm implementation.*"
   ]
  },
  {
   "cell_type": "markdown",
   "metadata": {},
   "source": [
    "**Answer: **\n",
    "\n",
    "- In this project, we try to identify students who need interventions before they dropout of school as discussed above. SVM model we choose consider two classes (Graduated/Dropout) as 2 clusters in space, therefore, it tried to find their corresponding bountries to seperate one cluster from another. So, SVM will first plots all students' data in space based on their individual characteristics(age, family size, number of school absences etc ), then it will try to find boudaries to seperate students who graduated from those dropouts. As show in the diagram below  \n",
    "![Image of svm](./img/svm_1.png)\n",
    "We can consider gray points in the diagram are graduated student and dark ones as dropouts. Horizontal axis is a character of a student, say, student age. Vertical axis is number of school absences. SVM will try to find a boundary between the 2 clusters during training. But we can see most points in the diagram are pretty clear which class it belongs to. What matters is the 5 points which are circled. SVM will only use them and try to maximize their distances from another class as far as possible and the result is the solid black line in the middle. Then, when we give it a new student age and his/her number of school absences for testing, it will plot data in the diagram, and immediately know whether the student is likely to dropout or graduate based on the boundary line. In our project, every student has more information others than only age and number of school absences. It cannot be plotted in a diagram, but the underline principle is the same. Also, some information combined can give better indication. For example, having internet access at home does not give much information about a student's dropout, but a student who has lots of school absences and having a internet access at home is a much better indicator. SVM is able to catch these combined feature indication by using kernel trick."
   ]
  },
  {
   "cell_type": "markdown",
   "metadata": {},
   "source": [
    "### Implementation: Model Tuning\n",
    "Fine tune the chosen model. Use grid search (`GridSearchCV`) with at least one important parameter tuned with at least 3 different values. You will need to use the entire training set for this. In the code cell below, you will need to implement the following:\n",
    "- Import [`sklearn.grid_search.gridSearchCV`](http://scikit-learn.org/stable/modules/generated/sklearn.grid_search.GridSearchCV.html) and [`sklearn.metrics.make_scorer`](http://scikit-learn.org/stable/modules/generated/sklearn.metrics.make_scorer.html).\n",
    "- Create a dictionary of parameters you wish to tune for the chosen model.\n",
    " - Example: `parameters = {'parameter' : [list of values]}`.\n",
    "- Initialize the classifier you've chosen and store it in `clf`.\n",
    "- Create the F<sub>1</sub> scoring function using `make_scorer` and store it in `f1_scorer`.\n",
    " - Set the `pos_label` parameter to the correct value!\n",
    "- Perform grid search on the classifier `clf` using `f1_scorer` as the scoring method, and store it in `grid_obj`.\n",
    "- Fit the grid search object to the training data (`X_train`, `y_train`), and store it in `grid_obj`."
   ]
  },
  {
   "cell_type": "code",
   "execution_count": 6,
   "metadata": {
    "collapsed": false
   },
   "outputs": [
    {
     "name": "stdout",
     "output_type": "stream",
     "text": [
      "Time used is:  133.96322059631348\n",
      "Made predictions in 0.0039 seconds.\n",
      "For students who actually need intervention, how many of them are identified  (Recall):  0.808080808081\n",
      "For students who are predicted for intervention, how many actual need one (Precision):  0.540540540541\n",
      "Accuracy score is:  0.71\n",
      "Confusion matrix is:  [[ 80  19]\n",
      " [ 68 133]]\n",
      "Made predictions in 0.0012 seconds.\n",
      "For students who actually need intervention, how many of them are identified  (Recall):  0.548387096774\n",
      "For students who are predicted for intervention, how many actual need one (Precision):  0.386363636364\n",
      "Accuracy score is:  0.568421052632\n",
      "Confusion matrix is:  [[17 14]\n",
      " [27 37]]\n",
      "Tuned model has a training F1 score of 0.6478.\n",
      "Tuned model has a testing F1 score of 0.4533.\n"
     ]
    },
    {
     "data": {
      "image/png": "[encoded data removed]",
      "text/plain": [
       "<matplotlib.figure.Figure at 0x7f3c51e20c50>"
      ]
     },
     "metadata": {},
     "output_type": "display_data"
    }
   ],
   "source": [
    "# TODO: Import 'GridSearchCV' and 'make_scorer'\n",
    "from sklearn.model_selection import GridSearchCV\n",
    "from sklearn.metrics import make_scorer\n",
    "from time import time\n",
    "from sklearn.svm import SVC\n",
    "import numpy as np\n",
    "from sklearn.metrics import f1_score\n",
    "from sklearn.model_selection import StratifiedShuffleSplit, StratifiedKFold\n",
    "from matplotlib import pyplot as plt\n",
    "%matplotlib inline\n",
    "\n",
    "# TODO: Create the parameters list you wish to tune\n",
    "C_range = np.logspace(0, 15, 16)\n",
    "gamma_range = np.logspace(-8, 1, 10)\n",
    "\n",
    "clf_params = {\n",
    "    'C': C_range,\n",
    "    'gamma': gamma_range\n",
    "}\n",
    "\n",
    "\n",
    "# TODO: Initialize the classifier\n",
    "clf = SVC(class_weight='balanced')\n",
    "\n",
    "cv = StratifiedShuffleSplit(n_splits=10, test_size=0.3, random_state=40)\n",
    "\n",
    "\n",
    "# TODO: Make an f1 scoring function using 'make_scorer' \n",
    "f1_scorer = make_scorer(f1_score, pos_label=0)\n",
    "\n",
    "# TODO: Perform grid search on the classifier using the f1_scorer as the scoring method\n",
    "grid = GridSearchCV(clf, clf_params, scoring=f1_scorer, n_jobs=-1, cv=cv)\n",
    "\n",
    "start_time = time()\n",
    "\n",
    "# TODO: Fit the grid search object to the training data and find the optimal parameters\n",
    "# X_train, y_test are scaled to [0, 1] before\n",
    "grid = grid.fit(X_train, y_train)\n",
    "print('Time used is: ', time() - start_time)\n",
    "# Get the estimator\n",
    "clf = grid.best_estimator_\n",
    "\n",
    "# Report the final F1 score for training and testing after parameter tuning\n",
    "f1_train = predict_labels(clf, X_train, y_train)\n",
    "f1_test = predict_labels(clf, X_test, y_test)\n",
    "print(\"Tuned model has a training F1 score of {:.4f}.\".format(f1_train))\n",
    "print(\"Tuned model has a testing F1 score of {:.4f}.\".format(f1_test))\n",
    "\n",
    "# scores = [x[1] for x in grid.cv_results_['mean_test_score']]\n",
    "scores = grid.cv_results_['mean_test_score']\n",
    "scores = np.array(scores).reshape(len(C_range), len(gamma_range))\n",
    "\n",
    "plt.figure(figsize=(8, 6))\n",
    "plt.subplots_adjust(left=.2, right=0.95, bottom=0.15, top=0.95)\n",
    "plt.imshow(scores, interpolation='nearest', cmap='Blues')\n",
    "plt.xlabel('gamma')\n",
    "plt.ylabel('C')\n",
    "plt.colorbar()\n",
    "plt.xticks(np.arange(len(gamma_range)), gamma_range, rotation=45)\n",
    "plt.yticks(np.arange(len(C_range)), C_range)\n",
    "plt.title(\n",
    "    \"The best parameters are {} with a score of {:0.2f}.\".format(\n",
    "    grid.best_params_, grid.best_score_)\n",
    ")\n",
    "plt.show()\n"
   ]
  },
  {
   "cell_type": "markdown",
   "metadata": {},
   "source": [
    "### Question 5 - Final F<sub>1</sub> Score\n",
    "*What is the final model's F<sub>1</sub> score for training and testing? How does that score compare to the untuned model?*"
   ]
  },
  {
   "cell_type": "markdown",
   "metadata": {},
   "source": [
    "**Ans:**\n",
    "\n",
    "- Final F<sub>1</sub> score for training is 0.6478 and for testing is 0.4533. \n",
    "\n",
    "- Comparing to the untuned model, F1 score for training is improved from 0.6344(training set size of 300) to 0.6478 and for testing is improved from 0.3611 to 0.4533 . The recall rate for testing dataset is improved from 0.4194 to 0.5483 and precision rate is improved from 0.3171 to 0.3864. \n",
    "- Although there are some improvements, the speed performance is still very good. I think some future improvements can be:\n",
    "    - The dataset is quite small, both in sample size and feature dimension size. Therefore, there are not much extra information to squeeze by tuning hyper-parameters.\n",
    "    - I just used min_max_scale to preprocess the features, further careful feature engineering can help to improve the predictive ability. "
   ]
  },
  {
   "cell_type": "markdown",
   "metadata": {},
   "source": [
    "#### Try F2 score as grid search score function to see if it gives better recall rate and precision score"
   ]
  },
  {
   "cell_type": "code",
   "execution_count": null,
   "metadata": {
    "collapsed": false
   },
   "outputs": [],
   "source": [
    "# TODO: Import 'GridSearchCV' and 'make_scorer'\n",
    "from sklearn.model_selection import GridSearchCV\n",
    "from sklearn.metrics import make_scorer\n",
    "from time import time\n",
    "from sklearn.svm import SVC\n",
    "import numpy as np\n",
    "from sklearn.metrics import fbeta_score\n",
    "from sklearn.model_selection import StratifiedShuffleSplit, StratifiedKFold\n",
    "from matplotlib import pyplot as plt\n",
    "%matplotlib inline\n",
    "\n",
    "# TODO: Create the parameters list you wish to tune\n",
    "C_range = np.logspace(-5, 10, 16)\n",
    "gamma_range = np.logspace(-12, -1, 12)\n",
    "\n",
    "clf_params = {\n",
    "    'C': C_range,\n",
    "    'gamma': gamma_range\n",
    "}\n",
    "\n",
    "\n",
    "# TODO: Initialize the classifier\n",
    "clf = SVC(class_weight='balanced')\n",
    "\n",
    "cv = StratifiedShuffleSplit(n_splits=10, test_size=0.35, random_state=40)\n",
    "\n",
    "# cv = StratifiedKFold(n_splits=4, shuffle=True, random_state=40)\n",
    "\n",
    "# TODO: Make an f1 scoring function using 'make_scorer' \n",
    "# I used fbeta_score \n",
    "f1_scorer = make_scorer(fbeta_score, beta=2, pos_label=0)\n",
    "\n",
    "# TODO: Perform grid search on the classifier using the f1_scorer as the scoring method\n",
    "grid = GridSearchCV(clf, clf_params, scoring=f1_scorer, n_jobs=-1, cv=cv)\n",
    "\n",
    "start_time = time()\n",
    "\n",
    "# TODO: Fit the grid search object to the training data and find the optimal parameters\n",
    "# X_train, y_test are scaled to [0, 1] before\n",
    "grid = grid.fit(X_train, y_train)\n",
    "print('Time used is: ', time() - start_time)\n",
    "# Get the estimator\n",
    "clf = grid.best_estimator_\n",
    "\n",
    "# Report the final F1 score for training and testing after parameter tuning\n",
    "f1_train = predict_labels(clf, X_train, y_train)\n",
    "f1_test = predict_labels(clf, X_test, y_test)\n",
    "print(\"Tuned model has a training F1 score of {:.4f}.\".format(f1_train))\n",
    "print(\"Tuned model has a testing F1 score of {:.4f}.\".format(f1_test))\n",
    "\n",
    "# scores = [x[1] for x in grid.cv_results_['mean_test_score']]\n",
    "scores = grid.cv_results_['mean_test_score']\n",
    "scores = np.array(scores).reshape(len(C_range), len(gamma_range))\n",
    "\n",
    "plt.figure(figsize=(8, 6))\n",
    "plt.subplots_adjust(left=.2, right=0.95, bottom=0.15, top=0.95)\n",
    "plt.imshow(scores, interpolation='nearest', cmap='Blues')\n",
    "plt.xlabel('gamma')\n",
    "plt.ylabel('C')\n",
    "plt.colorbar()\n",
    "plt.xticks(np.arange(len(gamma_range)), gamma_range, rotation=45)\n",
    "plt.yticks(np.arange(len(C_range)), C_range)\n",
    "plt.title(\n",
    "    \"The best parameters are {} with a score of {:0.2f}.\".format(\n",
    "    grid.best_params_, grid.best_score_)\n",
    ")\n",
    "plt.show()\n"
   ]
  },
  {
   "cell_type": "markdown",
   "metadata": {},
   "source": [
    "> **Note**: Once you have completed all of the code implementations and successfully answered each question above, you may finalize your work by exporting the iPython Notebook as an HTML document. You can do this by using the menu above and navigating to  \n",
    "**File -> Download as -> HTML (.html)**. Include the finished document along with this notebook as your submission."
   ]
  }
 ],
 "metadata": {
  "anaconda-cloud": {},
  "kernelspec": {
   "display_name": "Python [conda env:keras]",
   "language": "python",
   "name": "conda-env-keras-py"
  },
  "language_info": {
   "codemirror_mode": {
    "name": "ipython",
    "version": 3
   },
   "file_extension": ".py",
   "mimetype": "text/x-python",
   "name": "python",
   "nbconvert_exporter": "python",
   "pygments_lexer": "ipython3",
   "version": "3.5.2"
  }
 },
 "nbformat": 4,
 "nbformat_minor": 0
}
